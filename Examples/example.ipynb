{
 "cells": [
  {
   "cell_type": "code",
   "execution_count": 1,
   "metadata": {},
   "outputs": [
    {
     "name": "stdout",
     "output_type": "stream",
     "text": [
      "flopy is installed in /Users/aleaf/Documents/GitHub/flopy/flopy\n"
     ]
    }
   ],
   "source": [
    "import flopy.modflow as fm\n",
    "import mfexport"
   ]
  },
  {
   "cell_type": "markdown",
   "metadata": {},
   "source": [
    "## export a model\n",
    "\n",
    "#### load the model using flopy"
   ]
  },
  {
   "cell_type": "code",
   "execution_count": 2,
   "metadata": {},
   "outputs": [
    {
     "data": {
      "text/plain": [
       "MODFLOW 3 layer(s) 137 row(s) 171 column(s) 12 stress period(s)"
      ]
     },
     "execution_count": 2,
     "metadata": {},
     "output_type": "execute_result"
    }
   ],
   "source": [
    "m = fm.Modflow.load('lpr_inset.nam',\n",
    "                    model_ws='data/lpr')\n",
    "m"
   ]
  },
  {
   "cell_type": "markdown",
   "metadata": {},
   "source": [
    "#### define the location of the model grid\n",
    "* spacing in meters"
   ]
  },
  {
   "cell_type": "code",
   "execution_count": 3,
   "metadata": {},
   "outputs": [],
   "source": [
    "grid = mfexport.MFexportGrid(delr=m.dis.delr.array * .3048, # grid spacing in meters\n",
    "                             delc=m.dis.delc.array * .3048, \n",
    "                             xul=557571, yul=446166, # upper left corner in CRS\n",
    "                             epsg=3070 # epsg reference for projected CRS\n",
    "                            )"
   ]
  },
  {
   "cell_type": "markdown",
   "metadata": {},
   "source": [
    "### export all data arrays and stress period data (`MfLists`) to shapefiles, rasters and PDFs\n",
    "* array data are written to compressed GeoTIFFs\n",
    "* transient lists are written to shapefiles\n",
    "    * only model cells in the list are included\n",
    "    * stress period data are included as attributes; only periods where stresses change are included\n",
    "* all data are displayed in PDFs using `matplotlib.pyplot.imshow`"
   ]
  },
  {
   "cell_type": "code",
   "execution_count": 4,
   "metadata": {},
   "outputs": [
    {
     "name": "stdout",
     "output_type": "stream",
     "text": [
      "\n",
      "DIS package...\n",
      "botm:\n",
      "wrote postproc/rasters/botm_lay0.tif\n",
      "wrote postproc/rasters/botm_lay1.tif\n",
      "wrote postproc/rasters/botm_lay2.tif\n",
      "thickness:\n",
      "wrote postproc/rasters/thickness_lay0.tif\n",
      "wrote postproc/rasters/thickness_lay1.tif\n",
      "wrote postproc/rasters/thickness_lay2.tif\n",
      "model_top:\n",
      "wrote postproc/rasters/model_top.tif\n",
      "\n",
      "BAS6 package...\n",
      "ibound:\n",
      "wrote postproc/rasters/ibound_lay0.tif\n",
      "wrote postproc/rasters/ibound_lay1.tif\n",
      "wrote postproc/rasters/ibound_lay2.tif\n",
      "strt:\n",
      "wrote postproc/rasters/strt_lay0.tif\n",
      "wrote postproc/rasters/strt_lay1.tif\n",
      "wrote postproc/rasters/strt_lay2.tif\n",
      "\n",
      "UPW package...\n",
      "hani:\n",
      "wrote postproc/rasters/hani_lay0.tif\n",
      "wrote postproc/rasters/hani_lay1.tif\n",
      "wrote postproc/rasters/hani_lay2.tif\n",
      "hk:\n",
      "wrote postproc/rasters/hk_lay0.tif\n",
      "wrote postproc/rasters/hk_lay1.tif\n",
      "wrote postproc/rasters/hk_lay2.tif\n",
      "ss:\n",
      "wrote postproc/rasters/ss_lay0.tif\n",
      "wrote postproc/rasters/ss_lay1.tif\n",
      "wrote postproc/rasters/ss_lay2.tif\n",
      "sy:\n",
      "wrote postproc/rasters/sy_lay0.tif\n",
      "wrote postproc/rasters/sy_lay1.tif\n",
      "wrote postproc/rasters/sy_lay2.tif\n",
      "vka:\n",
      "wrote postproc/rasters/vka_lay0.tif\n",
      "wrote postproc/rasters/vka_lay1.tif\n",
      "wrote postproc/rasters/vka_lay2.tif\n",
      "vkcb:\n",
      "wrote postproc/rasters/vkcb_lay0.tif\n",
      "wrote postproc/rasters/vkcb_lay1.tif\n",
      "wrote postproc/rasters/vkcb_lay2.tif\n",
      "\n",
      "RCH package...\n",
      "rech:\n",
      "wrote postproc/rasters/rech_per0.tif\n",
      "wrote postproc/rasters/rech_per1.tif\n",
      "wrote postproc/rasters/rech_per2.tif\n",
      "wrote postproc/rasters/rech_per3.tif\n",
      "wrote postproc/rasters/rech_per4.tif\n",
      "wrote postproc/rasters/rech_per5.tif\n",
      "wrote postproc/rasters/rech_per6.tif\n",
      "wrote postproc/rasters/rech_per7.tif\n",
      "wrote postproc/rasters/rech_per8.tif\n",
      "wrote postproc/rasters/rech_per9.tif\n",
      "wrote postproc/rasters/rech_per10.tif\n",
      "wrote postproc/rasters/rech_per11.tif\n",
      "\n",
      "OC package...\n",
      "\n",
      "SFR package...\n",
      "skipped, not implemented yet\n",
      "\n",
      "GAGE package...\n",
      "\n",
      "WEL package...\n",
      "writing postproc/shps/wel.shp...\n",
      "flux:\n",
      "\n",
      "HYD package...\n",
      "\n",
      "NWT package...\n",
      "\n",
      "CHD package...\n",
      "writing postproc/shps/chd.shp...\n",
      "shead:\n",
      "ehead:\n"
     ]
    },
    {
     "data": {
      "text/plain": [
       "['postproc/rasters/botm_lay0.tif',\n",
       " 'postproc/pdfs/botm_lay0.pdf',\n",
       " 'postproc/rasters/botm_lay1.tif',\n",
       " 'postproc/pdfs/botm_lay1.pdf',\n",
       " 'postproc/rasters/botm_lay2.tif',\n",
       " 'postproc/pdfs/botm_lay2.pdf',\n",
       " 'postproc/rasters/thickness_lay0.tif',\n",
       " 'postproc/pdfs/thickness_lay0.pdf',\n",
       " 'postproc/rasters/thickness_lay1.tif',\n",
       " 'postproc/pdfs/thickness_lay1.pdf',\n",
       " 'postproc/rasters/thickness_lay2.tif',\n",
       " 'postproc/pdfs/thickness_lay2.pdf',\n",
       " 'postproc/rasters/model_top.tif',\n",
       " 'postproc/pdfs/model_top.pdf',\n",
       " 'postproc/rasters/ibound_lay0.tif',\n",
       " 'postproc/pdfs/ibound_lay0.pdf',\n",
       " 'postproc/rasters/ibound_lay1.tif',\n",
       " 'postproc/pdfs/ibound_lay1.pdf',\n",
       " 'postproc/rasters/ibound_lay2.tif',\n",
       " 'postproc/pdfs/ibound_lay2.pdf',\n",
       " 'postproc/rasters/strt_lay0.tif',\n",
       " 'postproc/pdfs/strt_lay0.pdf',\n",
       " 'postproc/rasters/strt_lay1.tif',\n",
       " 'postproc/pdfs/strt_lay1.pdf',\n",
       " 'postproc/rasters/strt_lay2.tif',\n",
       " 'postproc/pdfs/strt_lay2.pdf',\n",
       " 'postproc/rasters/hani_lay0.tif',\n",
       " 'postproc/pdfs/hani_lay0.pdf',\n",
       " 'postproc/rasters/hani_lay1.tif',\n",
       " 'postproc/pdfs/hani_lay1.pdf',\n",
       " 'postproc/rasters/hani_lay2.tif',\n",
       " 'postproc/pdfs/hani_lay2.pdf',\n",
       " 'postproc/rasters/hk_lay0.tif',\n",
       " 'postproc/pdfs/hk_lay0.pdf',\n",
       " 'postproc/rasters/hk_lay1.tif',\n",
       " 'postproc/pdfs/hk_lay1.pdf',\n",
       " 'postproc/rasters/hk_lay2.tif',\n",
       " 'postproc/pdfs/hk_lay2.pdf',\n",
       " 'postproc/rasters/ss_lay0.tif',\n",
       " 'postproc/pdfs/ss_lay0.pdf',\n",
       " 'postproc/rasters/ss_lay1.tif',\n",
       " 'postproc/pdfs/ss_lay1.pdf',\n",
       " 'postproc/rasters/ss_lay2.tif',\n",
       " 'postproc/pdfs/ss_lay2.pdf',\n",
       " 'postproc/rasters/sy_lay0.tif',\n",
       " 'postproc/pdfs/sy_lay0.pdf',\n",
       " 'postproc/rasters/sy_lay1.tif',\n",
       " 'postproc/pdfs/sy_lay1.pdf',\n",
       " 'postproc/rasters/sy_lay2.tif',\n",
       " 'postproc/pdfs/sy_lay2.pdf',\n",
       " 'postproc/rasters/vka_lay0.tif',\n",
       " 'postproc/pdfs/vka_lay0.pdf',\n",
       " 'postproc/rasters/vka_lay1.tif',\n",
       " 'postproc/pdfs/vka_lay1.pdf',\n",
       " 'postproc/rasters/vka_lay2.tif',\n",
       " 'postproc/pdfs/vka_lay2.pdf',\n",
       " 'postproc/rasters/vkcb_lay0.tif',\n",
       " 'postproc/pdfs/vkcb_lay0.pdf',\n",
       " 'postproc/rasters/vkcb_lay1.tif',\n",
       " 'postproc/pdfs/vkcb_lay1.pdf',\n",
       " 'postproc/rasters/vkcb_lay2.tif',\n",
       " 'postproc/pdfs/vkcb_lay2.pdf',\n",
       " 'postproc/rasters/rech_per0.tif',\n",
       " 'postproc/pdfs/rech_per0.pdf',\n",
       " 'postproc/rasters/rech_per1.tif',\n",
       " 'postproc/pdfs/rech_per1.pdf',\n",
       " 'postproc/rasters/rech_per2.tif',\n",
       " 'postproc/pdfs/rech_per2.pdf',\n",
       " 'postproc/rasters/rech_per3.tif',\n",
       " 'postproc/pdfs/rech_per3.pdf',\n",
       " 'postproc/rasters/rech_per4.tif',\n",
       " 'postproc/pdfs/rech_per4.pdf',\n",
       " 'postproc/rasters/rech_per5.tif',\n",
       " 'postproc/pdfs/rech_per5.pdf',\n",
       " 'postproc/rasters/rech_per6.tif',\n",
       " 'postproc/pdfs/rech_per6.pdf',\n",
       " 'postproc/rasters/rech_per7.tif',\n",
       " 'postproc/pdfs/rech_per7.pdf',\n",
       " 'postproc/rasters/rech_per8.tif',\n",
       " 'postproc/pdfs/rech_per8.pdf',\n",
       " 'postproc/rasters/rech_per9.tif',\n",
       " 'postproc/pdfs/rech_per9.pdf',\n",
       " 'postproc/rasters/rech_per10.tif',\n",
       " 'postproc/pdfs/rech_per10.pdf',\n",
       " 'postproc/rasters/rech_per11.tif',\n",
       " 'postproc/pdfs/rech_per11.pdf',\n",
       " 'postproc/shps/wel.shp',\n",
       " 'postproc/pdfs/wel.pdf',\n",
       " 'postproc/shps/chd.shp',\n",
       " 'postproc/pdfs/chd.pdf',\n",
       " 'postproc/pdfs/chd.pdf']"
      ]
     },
     "execution_count": 4,
     "metadata": {},
     "output_type": "execute_result"
    }
   ],
   "source": [
    "mfexport.export(m, grid, output_path='postproc')"
   ]
  },
  {
   "cell_type": "markdown",
   "metadata": {},
   "source": [
    "### export a package"
   ]
  },
  {
   "cell_type": "code",
   "execution_count": 5,
   "metadata": {},
   "outputs": [
    {
     "name": "stdout",
     "output_type": "stream",
     "text": [
      "\n",
      "WEL package...\n",
      "writing postproc/shps/wel.shp...\n",
      "flux:\n"
     ]
    },
    {
     "data": {
      "text/plain": [
       "['postproc/shps/wel.shp', 'postproc/pdfs/wel.pdf']"
      ]
     },
     "execution_count": 5,
     "metadata": {},
     "output_type": "execute_result"
    }
   ],
   "source": [
    "mfexport.export(m, grid, 'wel', output_path='postproc')"
   ]
  },
  {
   "cell_type": "markdown",
   "metadata": {},
   "source": [
    "### summarize model input"
   ]
  },
  {
   "cell_type": "code",
   "execution_count": 6,
   "metadata": {},
   "outputs": [
    {
     "name": "stdout",
     "output_type": "stream",
     "text": [
      "summarizing lpr_inset input...\n"
     ]
    },
    {
     "data": {
      "text/html": [
       "<div>\n",
       "<style scoped>\n",
       "    .dataframe tbody tr th:only-of-type {\n",
       "        vertical-align: middle;\n",
       "    }\n",
       "\n",
       "    .dataframe tbody tr th {\n",
       "        vertical-align: top;\n",
       "    }\n",
       "\n",
       "    .dataframe thead th {\n",
       "        text-align: right;\n",
       "    }\n",
       "</style>\n",
       "<table border=\"1\" class=\"dataframe\">\n",
       "  <thead>\n",
       "    <tr style=\"text-align: right;\">\n",
       "      <th></th>\n",
       "      <th>layer</th>\n",
       "      <th>max</th>\n",
       "      <th>mean</th>\n",
       "      <th>min</th>\n",
       "      <th>package</th>\n",
       "      <th>period</th>\n",
       "      <th>variable</th>\n",
       "    </tr>\n",
       "  </thead>\n",
       "  <tbody>\n",
       "    <tr>\n",
       "      <th>0</th>\n",
       "      <td>0.0</td>\n",
       "      <td>1066.699951</td>\n",
       "      <td>1049.306519</td>\n",
       "      <td>1033.500000</td>\n",
       "      <td>DIS</td>\n",
       "      <td>NaN</td>\n",
       "      <td>botm</td>\n",
       "    </tr>\n",
       "    <tr>\n",
       "      <th>1</th>\n",
       "      <td>1.0</td>\n",
       "      <td>1063.699951</td>\n",
       "      <td>1004.092468</td>\n",
       "      <td>991.239990</td>\n",
       "      <td>DIS</td>\n",
       "      <td>NaN</td>\n",
       "      <td>botm</td>\n",
       "    </tr>\n",
       "    <tr>\n",
       "      <th>2</th>\n",
       "      <td>2.0</td>\n",
       "      <td>1042.599976</td>\n",
       "      <td>1000.740356</td>\n",
       "      <td>988.239990</td>\n",
       "      <td>DIS</td>\n",
       "      <td>NaN</td>\n",
       "      <td>botm</td>\n",
       "    </tr>\n",
       "    <tr>\n",
       "      <th>3</th>\n",
       "      <td>0.0</td>\n",
       "      <td>131.650024</td>\n",
       "      <td>56.530697</td>\n",
       "      <td>21.839966</td>\n",
       "      <td>DIS</td>\n",
       "      <td>NaN</td>\n",
       "      <td>thickness</td>\n",
       "    </tr>\n",
       "    <tr>\n",
       "      <th>4</th>\n",
       "      <td>1.0</td>\n",
       "      <td>72.649963</td>\n",
       "      <td>45.214069</td>\n",
       "      <td>3.000000</td>\n",
       "      <td>DIS</td>\n",
       "      <td>NaN</td>\n",
       "      <td>thickness</td>\n",
       "    </tr>\n",
       "    <tr>\n",
       "      <th>5</th>\n",
       "      <td>2.0</td>\n",
       "      <td>45.299927</td>\n",
       "      <td>3.352026</td>\n",
       "      <td>2.999939</td>\n",
       "      <td>DIS</td>\n",
       "      <td>NaN</td>\n",
       "      <td>thickness</td>\n",
       "    </tr>\n",
       "    <tr>\n",
       "      <th>6</th>\n",
       "      <td>NaN</td>\n",
       "      <td>1190.459961</td>\n",
       "      <td>1105.837158</td>\n",
       "      <td>1071.079956</td>\n",
       "      <td>DIS</td>\n",
       "      <td>NaN</td>\n",
       "      <td>model_top</td>\n",
       "    </tr>\n",
       "    <tr>\n",
       "      <th>7</th>\n",
       "      <td>0.0</td>\n",
       "      <td>1.000000</td>\n",
       "      <td>1.000000</td>\n",
       "      <td>1.000000</td>\n",
       "      <td>BAS6</td>\n",
       "      <td>NaN</td>\n",
       "      <td>ibound</td>\n",
       "    </tr>\n",
       "    <tr>\n",
       "      <th>8</th>\n",
       "      <td>1.0</td>\n",
       "      <td>1.000000</td>\n",
       "      <td>1.000000</td>\n",
       "      <td>1.000000</td>\n",
       "      <td>BAS6</td>\n",
       "      <td>NaN</td>\n",
       "      <td>ibound</td>\n",
       "    </tr>\n",
       "    <tr>\n",
       "      <th>9</th>\n",
       "      <td>2.0</td>\n",
       "      <td>1.000000</td>\n",
       "      <td>1.000000</td>\n",
       "      <td>1.000000</td>\n",
       "      <td>BAS6</td>\n",
       "      <td>NaN</td>\n",
       "      <td>ibound</td>\n",
       "    </tr>\n",
       "    <tr>\n",
       "      <th>10</th>\n",
       "      <td>0.0</td>\n",
       "      <td>1107.099976</td>\n",
       "      <td>1087.256714</td>\n",
       "      <td>1069.800049</td>\n",
       "      <td>BAS6</td>\n",
       "      <td>NaN</td>\n",
       "      <td>strt</td>\n",
       "    </tr>\n",
       "    <tr>\n",
       "      <th>11</th>\n",
       "      <td>1.0</td>\n",
       "      <td>1107.099976</td>\n",
       "      <td>1087.247681</td>\n",
       "      <td>1069.900024</td>\n",
       "      <td>BAS6</td>\n",
       "      <td>NaN</td>\n",
       "      <td>strt</td>\n",
       "    </tr>\n",
       "    <tr>\n",
       "      <th>12</th>\n",
       "      <td>2.0</td>\n",
       "      <td>1107.099976</td>\n",
       "      <td>1087.247437</td>\n",
       "      <td>1070.000000</td>\n",
       "      <td>BAS6</td>\n",
       "      <td>NaN</td>\n",
       "      <td>strt</td>\n",
       "    </tr>\n",
       "    <tr>\n",
       "      <th>13</th>\n",
       "      <td>0.0</td>\n",
       "      <td>0.000000</td>\n",
       "      <td>0.000000</td>\n",
       "      <td>0.000000</td>\n",
       "      <td>UPW</td>\n",
       "      <td>NaN</td>\n",
       "      <td>hani</td>\n",
       "    </tr>\n",
       "    <tr>\n",
       "      <th>14</th>\n",
       "      <td>1.0</td>\n",
       "      <td>0.000000</td>\n",
       "      <td>0.000000</td>\n",
       "      <td>0.000000</td>\n",
       "      <td>UPW</td>\n",
       "      <td>NaN</td>\n",
       "      <td>hani</td>\n",
       "    </tr>\n",
       "    <tr>\n",
       "      <th>15</th>\n",
       "      <td>2.0</td>\n",
       "      <td>0.000000</td>\n",
       "      <td>0.000000</td>\n",
       "      <td>0.000000</td>\n",
       "      <td>UPW</td>\n",
       "      <td>NaN</td>\n",
       "      <td>hani</td>\n",
       "    </tr>\n",
       "    <tr>\n",
       "      <th>16</th>\n",
       "      <td>0.0</td>\n",
       "      <td>10000.000000</td>\n",
       "      <td>241.219452</td>\n",
       "      <td>1.005800</td>\n",
       "      <td>UPW</td>\n",
       "      <td>NaN</td>\n",
       "      <td>hk</td>\n",
       "    </tr>\n",
       "    <tr>\n",
       "      <th>17</th>\n",
       "      <td>1.0</td>\n",
       "      <td>354.209991</td>\n",
       "      <td>249.383621</td>\n",
       "      <td>19.238001</td>\n",
       "      <td>UPW</td>\n",
       "      <td>NaN</td>\n",
       "      <td>hk</td>\n",
       "    </tr>\n",
       "    <tr>\n",
       "      <th>18</th>\n",
       "      <td>2.0</td>\n",
       "      <td>354.209991</td>\n",
       "      <td>243.610580</td>\n",
       "      <td>19.238001</td>\n",
       "      <td>UPW</td>\n",
       "      <td>NaN</td>\n",
       "      <td>hk</td>\n",
       "    </tr>\n",
       "    <tr>\n",
       "      <th>19</th>\n",
       "      <td>0.0</td>\n",
       "      <td>1.000000</td>\n",
       "      <td>0.004113</td>\n",
       "      <td>0.001000</td>\n",
       "      <td>UPW</td>\n",
       "      <td>NaN</td>\n",
       "      <td>ss</td>\n",
       "    </tr>\n",
       "  </tbody>\n",
       "</table>\n",
       "</div>"
      ],
      "text/plain": [
       "    layer           max         mean          min package  period   variable\n",
       "0     0.0   1066.699951  1049.306519  1033.500000     DIS     NaN       botm\n",
       "1     1.0   1063.699951  1004.092468   991.239990     DIS     NaN       botm\n",
       "2     2.0   1042.599976  1000.740356   988.239990     DIS     NaN       botm\n",
       "3     0.0    131.650024    56.530697    21.839966     DIS     NaN  thickness\n",
       "4     1.0     72.649963    45.214069     3.000000     DIS     NaN  thickness\n",
       "5     2.0     45.299927     3.352026     2.999939     DIS     NaN  thickness\n",
       "6     NaN   1190.459961  1105.837158  1071.079956     DIS     NaN  model_top\n",
       "7     0.0      1.000000     1.000000     1.000000    BAS6     NaN     ibound\n",
       "8     1.0      1.000000     1.000000     1.000000    BAS6     NaN     ibound\n",
       "9     2.0      1.000000     1.000000     1.000000    BAS6     NaN     ibound\n",
       "10    0.0   1107.099976  1087.256714  1069.800049    BAS6     NaN       strt\n",
       "11    1.0   1107.099976  1087.247681  1069.900024    BAS6     NaN       strt\n",
       "12    2.0   1107.099976  1087.247437  1070.000000    BAS6     NaN       strt\n",
       "13    0.0      0.000000     0.000000     0.000000     UPW     NaN       hani\n",
       "14    1.0      0.000000     0.000000     0.000000     UPW     NaN       hani\n",
       "15    2.0      0.000000     0.000000     0.000000     UPW     NaN       hani\n",
       "16    0.0  10000.000000   241.219452     1.005800     UPW     NaN         hk\n",
       "17    1.0    354.209991   249.383621    19.238001     UPW     NaN         hk\n",
       "18    2.0    354.209991   243.610580    19.238001     UPW     NaN         hk\n",
       "19    0.0      1.000000     0.004113     0.001000     UPW     NaN         ss"
      ]
     },
     "execution_count": 6,
     "metadata": {},
     "output_type": "execute_result"
    }
   ],
   "source": [
    "df = mfexport.summarize(m)\n",
    "df.head(20)"
   ]
  },
  {
   "cell_type": "markdown",
   "metadata": {},
   "source": [
    "### Export model results\n",
    "\n",
    "#### cell by cell flows\n",
    "* written to compressed GeoTIFFs"
   ]
  },
  {
   "cell_type": "code",
   "execution_count": 7,
   "metadata": {},
   "outputs": [
    {
     "name": "stdout",
     "output_type": "stream",
     "text": [
      "wrote postproc/rasters/STORAGE_per0_stp4.tif\n",
      "wrote postproc/rasters/CONSTANT HEAD_per0_stp4.tif\n",
      "wrote postproc/rasters/FLOW RIGHT FACE_per0_stp4.tif\n",
      "wrote postproc/rasters/FLOW FRONT FACE_per0_stp4.tif\n",
      "wrote postproc/rasters/FLOW LOWER FACE_per0_stp4.tif\n",
      "wrote postproc/rasters/WELLS_per0_stp4.tif\n",
      "wrote postproc/rasters/RECHARGE_per0_stp4.tif\n",
      "wrote postproc/rasters/STREAM LEAKAGE_per0_stp4.tif\n"
     ]
    },
    {
     "data": {
      "text/plain": [
       "['postproc/rasters/STORAGE_per0_stp4.tif',\n",
       " 'postproc/rasters/CONSTANT HEAD_per0_stp4.tif',\n",
       " 'postproc/rasters/FLOW RIGHT FACE_per0_stp4.tif',\n",
       " 'postproc/rasters/FLOW FRONT FACE_per0_stp4.tif',\n",
       " 'postproc/rasters/FLOW LOWER FACE_per0_stp4.tif',\n",
       " 'postproc/rasters/WELLS_per0_stp4.tif',\n",
       " 'postproc/rasters/RECHARGE_per0_stp4.tif',\n",
       " 'postproc/rasters/STREAM LEAKAGE_per0_stp4.tif']"
      ]
     },
     "execution_count": 7,
     "metadata": {},
     "output_type": "execute_result"
    }
   ],
   "source": [
    "mfexport.export_cell_budget('data/lpr/lpr_inset.cbc', \n",
    "                   grid,\n",
    "                   kstpkper=(4, 0), output_path='postproc')"
   ]
  },
  {
   "cell_type": "markdown",
   "metadata": {},
   "source": [
    "#### heads\n",
    "* compressed GeoTIFFs\n",
    "* shapefiles of equipotential contours"
   ]
  },
  {
   "cell_type": "code",
   "execution_count": 8,
   "metadata": {},
   "outputs": [
    {
     "name": "stdout",
     "output_type": "stream",
     "text": [
      "wrote postproc/rasters/wt_per0_stp4.tif\n",
      "writing postproc/shps/wt_ctr_per0_stp4.shp...\n",
      "wrote postproc/rasters/hds_lay0_per0_stp4.tif\n",
      "writing postproc/shps/hds_ctr_lay0_per0_stp4.shp...\n",
      "wrote postproc/rasters/hds_lay1_per0_stp4.tif\n",
      "writing postproc/shps/hds_ctr_lay1_per0_stp4.shp...\n",
      "wrote postproc/rasters/hds_lay2_per0_stp4.tif\n",
      "writing postproc/shps/hds_ctr_lay2_per0_stp4.shp...\n"
     ]
    },
    {
     "data": {
      "text/plain": [
       "['postproc/rasters/wt_per0_stp4.tif',\n",
       " 'postproc/shps/wt_ctr_per0_stp4.shp',\n",
       " 'postproc/rasters/hds_lay0_per0_stp4.tif',\n",
       " 'postproc/shps/hds_ctr_lay0_per0_stp4.shp',\n",
       " 'postproc/rasters/hds_lay1_per0_stp4.tif',\n",
       " 'postproc/shps/hds_ctr_lay1_per0_stp4.shp',\n",
       " 'postproc/rasters/hds_lay2_per0_stp4.tif',\n",
       " 'postproc/shps/hds_ctr_lay2_per0_stp4.shp']"
      ]
     },
     "execution_count": 8,
     "metadata": {},
     "output_type": "execute_result"
    }
   ],
   "source": [
    "headsfile = 'data/lpr/lpr_inset.hds'\n",
    "\n",
    "mfexport.export_heads(headsfile, grid, hdry=m.upw.hdry, hnflo=m.bas6.hnoflo,\n",
    "                      kstpkper=(4, 0),\n",
    "                      output_path='postproc')"
   ]
  },
  {
   "cell_type": "markdown",
   "metadata": {},
   "source": [
    "#### drawdown\n",
    "* compressed GeoTIFFs\n",
    "* shapefiles of equipotential contours"
   ]
  },
  {
   "cell_type": "code",
   "execution_count": 10,
   "metadata": {},
   "outputs": [
    {
     "name": "stdout",
     "output_type": "stream",
     "text": [
      "wrote postproc/rasters/wt-ddn_per8_stp4.tif\n",
      "writing postproc/shps/wt-ddn_ctr_per8_stp4.shp...\n",
      "wrote postproc/rasters/ddn_lay0_per8_stp4.tif\n",
      "writing postproc/shps/ddn_ctr_lay0_per8_stp4.shp...\n",
      "wrote postproc/rasters/ddn_lay1_per8_stp4.tif\n",
      "writing postproc/shps/ddn_ctr_lay1_per8_stp4.shp...\n",
      "wrote postproc/rasters/ddn_lay2_per8_stp4.tif\n",
      "writing postproc/shps/ddn_ctr_lay2_per8_stp4.shp...\n"
     ]
    },
    {
     "data": {
      "text/plain": [
       "['postproc/rasters/wt-ddn_per8_stp4.tif',\n",
       " 'postproc/shps/wt-ddn_ctr_per8_stp4.shp',\n",
       " 'postproc/rasters/ddn_lay0_per8_stp4.tif',\n",
       " 'postproc/shps/ddn_ctr_lay0_per8_stp4.shp',\n",
       " 'postproc/rasters/ddn_lay1_per8_stp4.tif',\n",
       " 'postproc/shps/ddn_ctr_lay1_per8_stp4.shp',\n",
       " 'postproc/rasters/ddn_lay2_per8_stp4.tif',\n",
       " 'postproc/shps/ddn_ctr_lay2_per8_stp4.shp']"
      ]
     },
     "execution_count": 10,
     "metadata": {},
     "output_type": "execute_result"
    }
   ],
   "source": [
    "mfexport.export_drawdown(headsfile, grid, hdry=m.upw.hdry, hnflo=m.bas6.hnoflo,\n",
    "                         kstpkper0=(4, 0),\n",
    "                         kstpkper1=(4, 8),\n",
    "                         output_path='postproc')"
   ]
  },
  {
   "cell_type": "code",
   "execution_count": null,
   "metadata": {},
   "outputs": [],
   "source": []
  }
 ],
 "metadata": {
  "kernelspec": {
   "display_name": "Python 3",
   "language": "python",
   "name": "python3"
  }
 },
 "nbformat": 4,
 "nbformat_minor": 2
}
