{
 "cells": [
  {
   "cell_type": "code",
   "execution_count": 1,
   "metadata": {},
   "outputs": [
    {
     "name": "stdout",
     "output_type": "stream",
     "text": [
      "flopy is installed in /Users/aleaf/Documents/GitHub/flopy/flopy\n"
     ]
    }
   ],
   "source": [
    "import flopy.modflow as fm\n",
    "import mfexport"
   ]
  },
  {
   "cell_type": "markdown",
   "metadata": {},
   "source": [
    "## export a model\n",
    "\n",
    "#### load the model using flopy"
   ]
  },
  {
   "cell_type": "code",
   "execution_count": 2,
   "metadata": {},
   "outputs": [
    {
     "data": {
      "text/plain": [
       "MODFLOW 3 layer(s) 137 row(s) 171 column(s) 12 stress period(s)"
      ]
     },
     "execution_count": 2,
     "metadata": {},
     "output_type": "execute_result"
    }
   ],
   "source": [
    "m = fm.Modflow.load('lpr_inset.nam',\n",
    "                    model_ws='data/lpr')\n",
    "m"
   ]
  },
  {
   "cell_type": "markdown",
   "metadata": {},
   "source": [
    "#### define the location of the model grid\n",
    "* spacing in meters"
   ]
  },
  {
   "cell_type": "code",
   "execution_count": 3,
   "metadata": {},
   "outputs": [],
   "source": [
    "grid = mfexport.MFexportGrid(delr=m.dis.delr.array * .3048, # grid spacing in meters\n",
    "                             delc=m.dis.delc.array * .3048, \n",
    "                             xul=557571, yul=446166, # upper left corner in CRS\n",
    "                             epsg=3070 # epsg reference for projected CRS\n",
    "                            )"
   ]
  },
  {
   "cell_type": "markdown",
   "metadata": {},
   "source": [
    "### export all data arrays and stress period data (`MfLists`) to shapefiles, rasters and PDFs\n",
    "* array data are written to compressed GeoTIFFs\n",
    "* transient lists are written to shapefiles\n",
    "    * only model cells in the list are included\n",
    "    * stress period data are included as attributes; only periods where stresses change are included\n",
    "* all data are displayed in PDFs using `matplotlib.pyplot.imshow`"
   ]
  },
  {
   "cell_type": "code",
   "execution_count": 4,
   "metadata": {},
   "outputs": [
    {
     "name": "stdout",
     "output_type": "stream",
     "text": [
      "\n",
      "DIS package...\n",
      "botm:\n",
      "wrote postproc/rasters/botm_lay0.tif\n",
      "wrote postproc/rasters/botm_lay1.tif\n",
      "wrote postproc/rasters/botm_lay2.tif\n",
      "thickness:\n",
      "wrote postproc/rasters/thickness_lay0.tif\n",
      "wrote postproc/rasters/thickness_lay1.tif\n",
      "wrote postproc/rasters/thickness_lay2.tif\n",
      "model_top:\n",
      "wrote postproc/rasters/model_top.tif\n",
      "\n",
      "BAS6 package...\n",
      "ibound:\n",
      "wrote postproc/rasters/ibound_lay0.tif\n",
      "wrote postproc/rasters/ibound_lay1.tif\n",
      "wrote postproc/rasters/ibound_lay2.tif\n",
      "strt:\n",
      "wrote postproc/rasters/strt_lay0.tif\n",
      "wrote postproc/rasters/strt_lay1.tif\n",
      "wrote postproc/rasters/strt_lay2.tif\n",
      "\n",
      "UPW package...\n",
      "hani:\n",
      "wrote postproc/rasters/hani_lay0.tif\n",
      "wrote postproc/rasters/hani_lay1.tif\n",
      "wrote postproc/rasters/hani_lay2.tif\n",
      "hk:\n",
      "wrote postproc/rasters/hk_lay0.tif\n",
      "wrote postproc/rasters/hk_lay1.tif\n",
      "wrote postproc/rasters/hk_lay2.tif\n",
      "ss:\n",
      "wrote postproc/rasters/ss_lay0.tif\n",
      "wrote postproc/rasters/ss_lay1.tif\n",
      "wrote postproc/rasters/ss_lay2.tif\n",
      "sy:\n",
      "wrote postproc/rasters/sy_lay0.tif\n",
      "wrote postproc/rasters/sy_lay1.tif\n",
      "wrote postproc/rasters/sy_lay2.tif\n",
      "vka:\n",
      "wrote postproc/rasters/vka_lay0.tif\n",
      "wrote postproc/rasters/vka_lay1.tif\n",
      "wrote postproc/rasters/vka_lay2.tif\n",
      "vkcb:\n",
      "wrote postproc/rasters/vkcb_lay0.tif\n",
      "wrote postproc/rasters/vkcb_lay1.tif\n",
      "wrote postproc/rasters/vkcb_lay2.tif\n",
      "\n",
      "RCH package...\n",
      "rech:\n",
      "wrote postproc/rasters/rech_per0.tif\n",
      "wrote postproc/rasters/rech_per1.tif\n",
      "wrote postproc/rasters/rech_per2.tif\n",
      "wrote postproc/rasters/rech_per3.tif\n",
      "wrote postproc/rasters/rech_per4.tif\n",
      "wrote postproc/rasters/rech_per5.tif\n",
      "wrote postproc/rasters/rech_per6.tif\n",
      "wrote postproc/rasters/rech_per7.tif\n",
      "wrote postproc/rasters/rech_per8.tif\n",
      "wrote postproc/rasters/rech_per9.tif\n",
      "wrote postproc/rasters/rech_per10.tif\n",
      "wrote postproc/rasters/rech_per11.tif\n",
      "\n",
      "SFR package...\n",
      "skipped, not implemented yet\n",
      "\n",
      "GAGE package...\n",
      "\n",
      "WEL package...\n",
      "writing postproc/shps/wel_stress_period_data.shp...\n",
      "flux:\n",
      "\n",
      "HYD package...\n",
      "\n",
      "NWT package...\n",
      "\n",
      "CHD package...\n"
     ]
    },
    {
     "name": "stderr",
     "output_type": "stream",
     "text": [
      "/Users/aleaf/anaconda3/envs/gis/lib/python3.7/site-packages/pandas/core/frame.py:4244: SettingWithCopyWarning: \n",
      "A value is trying to be set on a copy of a slice from a DataFrame\n",
      "\n",
      "See the caveats in the documentation: http://pandas.pydata.org/pandas-docs/stable/user_guide/indexing.html#returning-a-view-versus-a-copy\n",
      "  **kwargs\n"
     ]
    },
    {
     "name": "stdout",
     "output_type": "stream",
     "text": [
      "writing postproc/shps/chd_stress_period_data.shp...\n",
      "shead:\n",
      "ehead:\n"
     ]
    },
    {
     "data": {
      "text/plain": [
       "['postproc/rasters/botm_lay0.tif',\n",
       " 'postproc/pdfs/botm_lay0.pdf',\n",
       " 'postproc/rasters/botm_lay1.tif',\n",
       " 'postproc/pdfs/botm_lay1.pdf',\n",
       " 'postproc/rasters/botm_lay2.tif',\n",
       " 'postproc/pdfs/botm_lay2.pdf',\n",
       " 'postproc/rasters/thickness_lay0.tif',\n",
       " 'postproc/pdfs/thickness_lay0.pdf',\n",
       " 'postproc/rasters/thickness_lay1.tif',\n",
       " 'postproc/pdfs/thickness_lay1.pdf',\n",
       " 'postproc/rasters/thickness_lay2.tif',\n",
       " 'postproc/pdfs/thickness_lay2.pdf',\n",
       " 'postproc/rasters/model_top.tif',\n",
       " 'postproc/pdfs/model_top.pdf',\n",
       " 'postproc/rasters/ibound_lay0.tif',\n",
       " 'postproc/pdfs/ibound_lay0.pdf',\n",
       " 'postproc/rasters/ibound_lay1.tif',\n",
       " 'postproc/pdfs/ibound_lay1.pdf',\n",
       " 'postproc/rasters/ibound_lay2.tif',\n",
       " 'postproc/pdfs/ibound_lay2.pdf',\n",
       " 'postproc/rasters/strt_lay0.tif',\n",
       " 'postproc/pdfs/strt_lay0.pdf',\n",
       " 'postproc/rasters/strt_lay1.tif',\n",
       " 'postproc/pdfs/strt_lay1.pdf',\n",
       " 'postproc/rasters/strt_lay2.tif',\n",
       " 'postproc/pdfs/strt_lay2.pdf',\n",
       " 'postproc/rasters/hani_lay0.tif',\n",
       " 'postproc/pdfs/hani_lay0.pdf',\n",
       " 'postproc/rasters/hani_lay1.tif',\n",
       " 'postproc/pdfs/hani_lay1.pdf',\n",
       " 'postproc/rasters/hani_lay2.tif',\n",
       " 'postproc/pdfs/hani_lay2.pdf',\n",
       " 'postproc/rasters/hk_lay0.tif',\n",
       " 'postproc/pdfs/hk_lay0.pdf',\n",
       " 'postproc/rasters/hk_lay1.tif',\n",
       " 'postproc/pdfs/hk_lay1.pdf',\n",
       " 'postproc/rasters/hk_lay2.tif',\n",
       " 'postproc/pdfs/hk_lay2.pdf',\n",
       " 'postproc/rasters/ss_lay0.tif',\n",
       " 'postproc/pdfs/ss_lay0.pdf',\n",
       " 'postproc/rasters/ss_lay1.tif',\n",
       " 'postproc/pdfs/ss_lay1.pdf',\n",
       " 'postproc/rasters/ss_lay2.tif',\n",
       " 'postproc/pdfs/ss_lay2.pdf',\n",
       " 'postproc/rasters/sy_lay0.tif',\n",
       " 'postproc/pdfs/sy_lay0.pdf',\n",
       " 'postproc/rasters/sy_lay1.tif',\n",
       " 'postproc/pdfs/sy_lay1.pdf',\n",
       " 'postproc/rasters/sy_lay2.tif',\n",
       " 'postproc/pdfs/sy_lay2.pdf',\n",
       " 'postproc/rasters/vka_lay0.tif',\n",
       " 'postproc/pdfs/vka_lay0.pdf',\n",
       " 'postproc/rasters/vka_lay1.tif',\n",
       " 'postproc/pdfs/vka_lay1.pdf',\n",
       " 'postproc/rasters/vka_lay2.tif',\n",
       " 'postproc/pdfs/vka_lay2.pdf',\n",
       " 'postproc/rasters/vkcb_lay0.tif',\n",
       " 'postproc/pdfs/vkcb_lay0.pdf',\n",
       " 'postproc/rasters/vkcb_lay1.tif',\n",
       " 'postproc/pdfs/vkcb_lay1.pdf',\n",
       " 'postproc/rasters/vkcb_lay2.tif',\n",
       " 'postproc/pdfs/vkcb_lay2.pdf',\n",
       " 'postproc/rasters/rech_per0.tif',\n",
       " 'postproc/pdfs/rech_per0.pdf',\n",
       " 'postproc/rasters/rech_per1.tif',\n",
       " 'postproc/pdfs/rech_per1.pdf',\n",
       " 'postproc/rasters/rech_per2.tif',\n",
       " 'postproc/pdfs/rech_per2.pdf',\n",
       " 'postproc/rasters/rech_per3.tif',\n",
       " 'postproc/pdfs/rech_per3.pdf',\n",
       " 'postproc/rasters/rech_per4.tif',\n",
       " 'postproc/pdfs/rech_per4.pdf',\n",
       " 'postproc/rasters/rech_per5.tif',\n",
       " 'postproc/pdfs/rech_per5.pdf',\n",
       " 'postproc/rasters/rech_per6.tif',\n",
       " 'postproc/pdfs/rech_per6.pdf',\n",
       " 'postproc/rasters/rech_per7.tif',\n",
       " 'postproc/pdfs/rech_per7.pdf',\n",
       " 'postproc/rasters/rech_per8.tif',\n",
       " 'postproc/pdfs/rech_per8.pdf',\n",
       " 'postproc/rasters/rech_per9.tif',\n",
       " 'postproc/pdfs/rech_per9.pdf',\n",
       " 'postproc/rasters/rech_per10.tif',\n",
       " 'postproc/pdfs/rech_per10.pdf',\n",
       " 'postproc/rasters/rech_per11.tif',\n",
       " 'postproc/pdfs/rech_per11.pdf',\n",
       " 'postproc/shps/wel_stress_period_data.shp',\n",
       " 'postproc/pdfs/wel_stress_period_data.pdf',\n",
       " 'postproc/shps/chd_stress_period_data.shp',\n",
       " 'postproc/pdfs/chd_stress_period_data.pdf',\n",
       " 'postproc/pdfs/chd_stress_period_data.pdf']"
      ]
     },
     "execution_count": 4,
     "metadata": {},
     "output_type": "execute_result"
    }
   ],
   "source": [
    "mfexport.export(m, grid, output_path='postproc')"
   ]
  },
  {
   "cell_type": "markdown",
   "metadata": {},
   "source": [
    "### export a package"
   ]
  },
  {
   "cell_type": "code",
   "execution_count": 5,
   "metadata": {},
   "outputs": [
    {
     "name": "stdout",
     "output_type": "stream",
     "text": [
      "\n",
      "WEL package...\n",
      "writing postproc/shps/wel_stress_period_data.shp...\n",
      "flux:\n"
     ]
    },
    {
     "data": {
      "text/plain": [
       "['postproc/shps/wel_stress_period_data.shp',\n",
       " 'postproc/pdfs/wel_stress_period_data.pdf']"
      ]
     },
     "execution_count": 5,
     "metadata": {},
     "output_type": "execute_result"
    }
   ],
   "source": [
    "mfexport.export(m, grid, 'wel', output_path='postproc')"
   ]
  },
  {
   "cell_type": "markdown",
   "metadata": {},
   "source": [
    "### summarize model input"
   ]
  },
  {
   "cell_type": "code",
   "execution_count": 6,
   "metadata": {},
   "outputs": [
    {
     "name": "stdout",
     "output_type": "stream",
     "text": [
      "summarizing lpr_inset input...\n"
     ]
    },
    {
     "name": "stderr",
     "output_type": "stream",
     "text": [
      "/Users/aleaf/anaconda3/envs/gis/lib/python3.7/site-packages/pandas/core/frame.py:4244: SettingWithCopyWarning: \n",
      "A value is trying to be set on a copy of a slice from a DataFrame\n",
      "\n",
      "See the caveats in the documentation: http://pandas.pydata.org/pandas-docs/stable/user_guide/indexing.html#returning-a-view-versus-a-copy\n",
      "  **kwargs\n"
     ]
    },
    {
     "data": {
      "text/html": [
       "<div>\n",
       "<style scoped>\n",
       "    .dataframe tbody tr th:only-of-type {\n",
       "        vertical-align: middle;\n",
       "    }\n",
       "\n",
       "    .dataframe tbody tr th {\n",
       "        vertical-align: top;\n",
       "    }\n",
       "\n",
       "    .dataframe thead th {\n",
       "        text-align: right;\n",
       "    }\n",
       "</style>\n",
       "<table border=\"1\" class=\"dataframe\">\n",
       "  <thead>\n",
       "    <tr style=\"text-align: right;\">\n",
       "      <th></th>\n",
       "      <th>package</th>\n",
       "      <th>variable</th>\n",
       "      <th>layer</th>\n",
       "      <th>min</th>\n",
       "      <th>mean</th>\n",
       "      <th>max</th>\n",
       "      <th>period</th>\n",
       "    </tr>\n",
       "  </thead>\n",
       "  <tbody>\n",
       "    <tr>\n",
       "      <td>0</td>\n",
       "      <td>DIS</td>\n",
       "      <td>botm</td>\n",
       "      <td>0.0</td>\n",
       "      <td>1033.500000</td>\n",
       "      <td>1049.306527</td>\n",
       "      <td>1066.699951</td>\n",
       "      <td>NaN</td>\n",
       "    </tr>\n",
       "    <tr>\n",
       "      <td>1</td>\n",
       "      <td>DIS</td>\n",
       "      <td>botm</td>\n",
       "      <td>1.0</td>\n",
       "      <td>991.239990</td>\n",
       "      <td>1004.092457</td>\n",
       "      <td>1063.699951</td>\n",
       "      <td>NaN</td>\n",
       "    </tr>\n",
       "    <tr>\n",
       "      <td>2</td>\n",
       "      <td>DIS</td>\n",
       "      <td>botm</td>\n",
       "      <td>2.0</td>\n",
       "      <td>988.239990</td>\n",
       "      <td>1000.740342</td>\n",
       "      <td>1042.599976</td>\n",
       "      <td>NaN</td>\n",
       "    </tr>\n",
       "    <tr>\n",
       "      <td>3</td>\n",
       "      <td>DIS</td>\n",
       "      <td>thickness</td>\n",
       "      <td>0.0</td>\n",
       "      <td>21.839966</td>\n",
       "      <td>56.530696</td>\n",
       "      <td>131.650024</td>\n",
       "      <td>NaN</td>\n",
       "    </tr>\n",
       "    <tr>\n",
       "      <td>4</td>\n",
       "      <td>DIS</td>\n",
       "      <td>thickness</td>\n",
       "      <td>1.0</td>\n",
       "      <td>3.000000</td>\n",
       "      <td>45.214069</td>\n",
       "      <td>72.649963</td>\n",
       "      <td>NaN</td>\n",
       "    </tr>\n",
       "    <tr>\n",
       "      <td>5</td>\n",
       "      <td>DIS</td>\n",
       "      <td>thickness</td>\n",
       "      <td>2.0</td>\n",
       "      <td>2.999939</td>\n",
       "      <td>3.352026</td>\n",
       "      <td>45.299927</td>\n",
       "      <td>NaN</td>\n",
       "    </tr>\n",
       "    <tr>\n",
       "      <td>6</td>\n",
       "      <td>DIS</td>\n",
       "      <td>model_top</td>\n",
       "      <td>NaN</td>\n",
       "      <td>1071.079956</td>\n",
       "      <td>1105.837196</td>\n",
       "      <td>1190.459961</td>\n",
       "      <td>NaN</td>\n",
       "    </tr>\n",
       "    <tr>\n",
       "      <td>7</td>\n",
       "      <td>BAS6</td>\n",
       "      <td>ibound</td>\n",
       "      <td>0.0</td>\n",
       "      <td>1.000000</td>\n",
       "      <td>1.000000</td>\n",
       "      <td>1.000000</td>\n",
       "      <td>NaN</td>\n",
       "    </tr>\n",
       "    <tr>\n",
       "      <td>8</td>\n",
       "      <td>BAS6</td>\n",
       "      <td>ibound</td>\n",
       "      <td>1.0</td>\n",
       "      <td>1.000000</td>\n",
       "      <td>1.000000</td>\n",
       "      <td>1.000000</td>\n",
       "      <td>NaN</td>\n",
       "    </tr>\n",
       "    <tr>\n",
       "      <td>9</td>\n",
       "      <td>BAS6</td>\n",
       "      <td>ibound</td>\n",
       "      <td>2.0</td>\n",
       "      <td>1.000000</td>\n",
       "      <td>1.000000</td>\n",
       "      <td>1.000000</td>\n",
       "      <td>NaN</td>\n",
       "    </tr>\n",
       "    <tr>\n",
       "      <td>10</td>\n",
       "      <td>BAS6</td>\n",
       "      <td>strt</td>\n",
       "      <td>0.0</td>\n",
       "      <td>1069.800049</td>\n",
       "      <td>1087.256670</td>\n",
       "      <td>1107.099976</td>\n",
       "      <td>NaN</td>\n",
       "    </tr>\n",
       "    <tr>\n",
       "      <td>11</td>\n",
       "      <td>BAS6</td>\n",
       "      <td>strt</td>\n",
       "      <td>1.0</td>\n",
       "      <td>1069.900024</td>\n",
       "      <td>1087.247706</td>\n",
       "      <td>1107.099976</td>\n",
       "      <td>NaN</td>\n",
       "    </tr>\n",
       "    <tr>\n",
       "      <td>12</td>\n",
       "      <td>BAS6</td>\n",
       "      <td>strt</td>\n",
       "      <td>2.0</td>\n",
       "      <td>1070.000000</td>\n",
       "      <td>1087.247450</td>\n",
       "      <td>1107.099976</td>\n",
       "      <td>NaN</td>\n",
       "    </tr>\n",
       "    <tr>\n",
       "      <td>13</td>\n",
       "      <td>UPW</td>\n",
       "      <td>hani</td>\n",
       "      <td>0.0</td>\n",
       "      <td>0.000000</td>\n",
       "      <td>0.000000</td>\n",
       "      <td>0.000000</td>\n",
       "      <td>NaN</td>\n",
       "    </tr>\n",
       "    <tr>\n",
       "      <td>14</td>\n",
       "      <td>UPW</td>\n",
       "      <td>hani</td>\n",
       "      <td>1.0</td>\n",
       "      <td>0.000000</td>\n",
       "      <td>0.000000</td>\n",
       "      <td>0.000000</td>\n",
       "      <td>NaN</td>\n",
       "    </tr>\n",
       "    <tr>\n",
       "      <td>15</td>\n",
       "      <td>UPW</td>\n",
       "      <td>hani</td>\n",
       "      <td>2.0</td>\n",
       "      <td>0.000000</td>\n",
       "      <td>0.000000</td>\n",
       "      <td>0.000000</td>\n",
       "      <td>NaN</td>\n",
       "    </tr>\n",
       "    <tr>\n",
       "      <td>16</td>\n",
       "      <td>UPW</td>\n",
       "      <td>hk</td>\n",
       "      <td>0.0</td>\n",
       "      <td>1.005800</td>\n",
       "      <td>241.219448</td>\n",
       "      <td>10000.000000</td>\n",
       "      <td>NaN</td>\n",
       "    </tr>\n",
       "    <tr>\n",
       "      <td>17</td>\n",
       "      <td>UPW</td>\n",
       "      <td>hk</td>\n",
       "      <td>1.0</td>\n",
       "      <td>19.238001</td>\n",
       "      <td>249.383617</td>\n",
       "      <td>354.209991</td>\n",
       "      <td>NaN</td>\n",
       "    </tr>\n",
       "    <tr>\n",
       "      <td>18</td>\n",
       "      <td>UPW</td>\n",
       "      <td>hk</td>\n",
       "      <td>2.0</td>\n",
       "      <td>19.238001</td>\n",
       "      <td>243.610578</td>\n",
       "      <td>354.209991</td>\n",
       "      <td>NaN</td>\n",
       "    </tr>\n",
       "    <tr>\n",
       "      <td>19</td>\n",
       "      <td>UPW</td>\n",
       "      <td>ss</td>\n",
       "      <td>0.0</td>\n",
       "      <td>0.001000</td>\n",
       "      <td>0.004113</td>\n",
       "      <td>1.000000</td>\n",
       "      <td>NaN</td>\n",
       "    </tr>\n",
       "  </tbody>\n",
       "</table>\n",
       "</div>"
      ],
      "text/plain": [
       "   package   variable  layer          min         mean           max  period\n",
       "0      DIS       botm    0.0  1033.500000  1049.306527   1066.699951     NaN\n",
       "1      DIS       botm    1.0   991.239990  1004.092457   1063.699951     NaN\n",
       "2      DIS       botm    2.0   988.239990  1000.740342   1042.599976     NaN\n",
       "3      DIS  thickness    0.0    21.839966    56.530696    131.650024     NaN\n",
       "4      DIS  thickness    1.0     3.000000    45.214069     72.649963     NaN\n",
       "5      DIS  thickness    2.0     2.999939     3.352026     45.299927     NaN\n",
       "6      DIS  model_top    NaN  1071.079956  1105.837196   1190.459961     NaN\n",
       "7     BAS6     ibound    0.0     1.000000     1.000000      1.000000     NaN\n",
       "8     BAS6     ibound    1.0     1.000000     1.000000      1.000000     NaN\n",
       "9     BAS6     ibound    2.0     1.000000     1.000000      1.000000     NaN\n",
       "10    BAS6       strt    0.0  1069.800049  1087.256670   1107.099976     NaN\n",
       "11    BAS6       strt    1.0  1069.900024  1087.247706   1107.099976     NaN\n",
       "12    BAS6       strt    2.0  1070.000000  1087.247450   1107.099976     NaN\n",
       "13     UPW       hani    0.0     0.000000     0.000000      0.000000     NaN\n",
       "14     UPW       hani    1.0     0.000000     0.000000      0.000000     NaN\n",
       "15     UPW       hani    2.0     0.000000     0.000000      0.000000     NaN\n",
       "16     UPW         hk    0.0     1.005800   241.219448  10000.000000     NaN\n",
       "17     UPW         hk    1.0    19.238001   249.383617    354.209991     NaN\n",
       "18     UPW         hk    2.0    19.238001   243.610578    354.209991     NaN\n",
       "19     UPW         ss    0.0     0.001000     0.004113      1.000000     NaN"
      ]
     },
     "execution_count": 6,
     "metadata": {},
     "output_type": "execute_result"
    }
   ],
   "source": [
    "df = mfexport.summarize(m)\n",
    "df.head(20)"
   ]
  },
  {
   "cell_type": "markdown",
   "metadata": {},
   "source": [
    "### Export model results\n",
    "\n",
    "#### cell by cell flows\n",
    "* written to compressed GeoTIFFs"
   ]
  },
  {
   "cell_type": "code",
   "execution_count": 7,
   "metadata": {},
   "outputs": [
    {
     "name": "stdout",
     "output_type": "stream",
     "text": [
      "Exporting cell budget info...\n",
      "file: data/lpr/lpr_inset.cbc\n",
      "binary grid file: None\n",
      "stress period 0, timestep 4\n",
      "wrote postproc/rasters/STORAGE_per0_stp4.tif\n",
      "wrote postproc/rasters/CONSTANT HEAD_per0_stp4.tif\n",
      "wrote postproc/rasters/FLOW RIGHT FACE_per0_stp4.tif\n",
      "wrote postproc/rasters/FLOW FRONT FACE_per0_stp4.tif\n",
      "wrote postproc/rasters/FLOW LOWER FACE_per0_stp4.tif\n",
      "wrote postproc/rasters/WELLS_per0_stp4.tif\n",
      "wrote postproc/rasters/RECHARGE_per0_stp4.tif\n",
      "wrote postproc/rasters/STREAM LEAKAGE_per0_stp4.tif\n"
     ]
    },
    {
     "data": {
      "text/plain": [
       "['postproc/rasters/STORAGE_per0_stp4.tif',\n",
       " 'postproc/rasters/CONSTANT HEAD_per0_stp4.tif',\n",
       " 'postproc/rasters/FLOW RIGHT FACE_per0_stp4.tif',\n",
       " 'postproc/rasters/FLOW FRONT FACE_per0_stp4.tif',\n",
       " 'postproc/rasters/FLOW LOWER FACE_per0_stp4.tif',\n",
       " 'postproc/rasters/WELLS_per0_stp4.tif',\n",
       " 'postproc/rasters/RECHARGE_per0_stp4.tif',\n",
       " 'postproc/rasters/STREAM LEAKAGE_per0_stp4.tif']"
      ]
     },
     "execution_count": 7,
     "metadata": {},
     "output_type": "execute_result"
    }
   ],
   "source": [
    "mfexport.export_cell_budget('data/lpr/lpr_inset.cbc', \n",
    "                   grid,\n",
    "                   kstpkper=(4, 0), output_path='postproc')"
   ]
  },
  {
   "cell_type": "markdown",
   "metadata": {},
   "source": [
    "#### heads\n",
    "* compressed GeoTIFFs\n",
    "* shapefiles of equipotential contours"
   ]
  },
  {
   "cell_type": "code",
   "execution_count": 8,
   "metadata": {},
   "outputs": [
    {
     "name": "stdout",
     "output_type": "stream",
     "text": [
      "Exporting heads...\n",
      "file: data/lpr/lpr_inset.hds\n",
      "stress period 0, timestep 4\n",
      "wrote postproc/rasters/wt_per0_stp4.tif\n",
      "writing postproc/shps/wt_ctr_per0_stp4.shp...\n",
      "wrote postproc/rasters/hds_lay0_per0_stp4.tif\n",
      "writing postproc/shps/hds_ctr_lay0_per0_stp4.shp...\n",
      "wrote postproc/rasters/hds_lay1_per0_stp4.tif\n",
      "writing postproc/shps/hds_ctr_lay1_per0_stp4.shp...\n",
      "wrote postproc/rasters/hds_lay2_per0_stp4.tif\n",
      "writing postproc/shps/hds_ctr_lay2_per0_stp4.shp...\n"
     ]
    },
    {
     "data": {
      "text/plain": [
       "['postproc/rasters/wt_per0_stp4.tif',\n",
       " 'postproc/shps/wt_ctr_per0_stp4.shp',\n",
       " 'postproc/rasters/hds_lay0_per0_stp4.tif',\n",
       " 'postproc/shps/hds_ctr_lay0_per0_stp4.shp',\n",
       " 'postproc/rasters/hds_lay1_per0_stp4.tif',\n",
       " 'postproc/shps/hds_ctr_lay1_per0_stp4.shp',\n",
       " 'postproc/rasters/hds_lay2_per0_stp4.tif',\n",
       " 'postproc/shps/hds_ctr_lay2_per0_stp4.shp']"
      ]
     },
     "execution_count": 8,
     "metadata": {},
     "output_type": "execute_result"
    }
   ],
   "source": [
    "headsfile = 'data/lpr/lpr_inset.hds'\n",
    "\n",
    "mfexport.export_heads(headsfile, grid, hdry=m.upw.hdry, hnflo=m.bas6.hnoflo,\n",
    "                      kstpkper=(4, 0),\n",
    "                      output_path='postproc')"
   ]
  },
  {
   "cell_type": "markdown",
   "metadata": {},
   "source": [
    "#### drawdown\n",
    "* compressed GeoTIFFs\n",
    "* shapefiles of equipotential contours"
   ]
  },
  {
   "cell_type": "code",
   "execution_count": 9,
   "metadata": {},
   "outputs": [
    {
     "name": "stdout",
     "output_type": "stream",
     "text": [
      "Exporting drawdown...\n",
      "file: data/lpr/lpr_inset.hds\n",
      "from stress period 0, timestep 4\n",
      "to stress period 8, timestep 4\n",
      "\n",
      "\n",
      "wrote postproc/rasters/wt-ddn_per8_stp4.tif\n",
      "writing postproc/shps/wt-ddn_ctr_per8_stp4.shp...\n",
      "wrote postproc/rasters/ddn_lay0_per8_stp4.tif\n",
      "writing postproc/shps/ddn_ctr_lay0_per8_stp4.shp...\n",
      "wrote postproc/rasters/ddn_lay1_per8_stp4.tif\n",
      "writing postproc/shps/ddn_ctr_lay1_per8_stp4.shp...\n",
      "wrote postproc/rasters/ddn_lay2_per8_stp4.tif\n",
      "writing postproc/shps/ddn_ctr_lay2_per8_stp4.shp...\n"
     ]
    },
    {
     "data": {
      "text/plain": [
       "['postproc/rasters/wt-ddn_per8_stp4.tif',\n",
       " 'postproc/shps/wt-ddn_ctr_per8_stp4.shp',\n",
       " 'postproc/rasters/ddn_lay0_per8_stp4.tif',\n",
       " 'postproc/shps/ddn_ctr_lay0_per8_stp4.shp',\n",
       " 'postproc/rasters/ddn_lay1_per8_stp4.tif',\n",
       " 'postproc/shps/ddn_ctr_lay1_per8_stp4.shp',\n",
       " 'postproc/rasters/ddn_lay2_per8_stp4.tif',\n",
       " 'postproc/shps/ddn_ctr_lay2_per8_stp4.shp']"
      ]
     },
     "execution_count": 9,
     "metadata": {},
     "output_type": "execute_result"
    }
   ],
   "source": [
    "mfexport.export_drawdown(headsfile, grid, hdry=m.upw.hdry, hnflo=m.bas6.hnoflo,\n",
    "                         kstpkper0=(4, 0),\n",
    "                         kstpkper1=(4, 8),\n",
    "                         output_path='postproc')"
   ]
  },
  {
   "cell_type": "markdown",
   "metadata": {},
   "source": [
    "#### SFR results\n",
    "* shapefile of SFR water balance results\n",
    "* PDFs of simulated stream flows and stream/aquifer interactions"
   ]
  },
  {
   "cell_type": "code",
   "execution_count": 10,
   "metadata": {},
   "outputs": [
    {
     "name": "stdout",
     "output_type": "stream",
     "text": [
      "Exporting SFR results...\n",
      "file: data/lpr/lpr_inset.sfr.out\n",
      "stress period 0, timestep 4\n",
      "writing postproc/shps/sfrout_per0_stp4.shp...\n",
      "stress period 0, timestep 4\n",
      "wrote postproc/pdfs/baseflow_per0_stp4.pdf\n",
      "wrote postproc/pdfs/qaquifer_per0_stp4.pdf\n"
     ]
    }
   ],
   "source": [
    "mf2005_sfr_outputfile = 'data/lpr/lpr_inset.sfr.out'\n",
    "outfiles = mfexport.export_sfr_results(mf2005_sfr_outputfile=mf2005_sfr_outputfile,\n",
    "                                       model=m,\n",
    "                                       grid=grid,\n",
    "                                       kstpkper=(4, 0),\n",
    "                                       output_length_units='feet',\n",
    "                                       output_time_units='seconds',\n",
    "                                       output_path='postproc'\n",
    "                                       )"
   ]
  },
  {
   "cell_type": "code",
   "execution_count": null,
   "metadata": {},
   "outputs": [],
   "source": []
  }
 ],
 "metadata": {
  "kernelspec": {
   "display_name": "Python 3",
   "language": "python",
   "name": "python3"
  },
  "language_info": {
   "codemirror_mode": {
    "name": "ipython",
    "version": 3
   },
   "file_extension": ".py",
   "mimetype": "text/x-python",
   "name": "python",
   "nbconvert_exporter": "python",
   "pygments_lexer": "ipython3",
   "version": "3.7.3"
  }
 },
 "nbformat": 4,
 "nbformat_minor": 2
}
