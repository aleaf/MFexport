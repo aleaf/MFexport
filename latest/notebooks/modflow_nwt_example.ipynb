{
 "cells": [
  {
   "cell_type": "code",
   "execution_count": 1,
   "metadata": {
    "execution": {
     "iopub.execute_input": "2023-08-14T20:46:21.931808Z",
     "iopub.status.busy": "2023-08-14T20:46:21.930754Z",
     "iopub.status.idle": "2023-08-14T20:46:23.116136Z",
     "shell.execute_reply": "2023-08-14T20:46:23.115554Z"
    }
   },
   "outputs": [],
   "source": [
    "import flopy.modflow as fm\n",
    "import mfexport"
   ]
  },
  {
   "cell_type": "markdown",
   "metadata": {},
   "source": [
    "## export a model\n",
    "\n",
    "#### load the model using flopy"
   ]
  },
  {
   "cell_type": "code",
   "execution_count": 2,
   "metadata": {
    "execution": {
     "iopub.execute_input": "2023-08-14T20:46:23.119467Z",
     "iopub.status.busy": "2023-08-14T20:46:23.118987Z",
     "iopub.status.idle": "2023-08-14T20:46:23.352350Z",
     "shell.execute_reply": "2023-08-14T20:46:23.351877Z"
    }
   },
   "outputs": [
    {
     "name": "stderr",
     "output_type": "stream",
     "text": [
      "/home/runner/micromamba/envs/mfexport_ci/lib/python3.11/site-packages/flopy/mbase.py:85: UserWarning: The program mf2005 does not exist or is not executable.\n",
      "  warn(\n",
      "/home/runner/micromamba/envs/mfexport_ci/lib/python3.11/site-packages/pyproj/crs/crs.py:141: FutureWarning: '+init=<authority>:<code>' syntax is deprecated. '<authority>:<code>' is the preferred initialization method. When making the change, be mindful of axis order changes: https://pyproj4.github.io/pyproj/stable/gotchas.html#axis-order-changes-in-proj-6\n",
      "  in_crs_string = _prepare_from_proj_string(in_crs_string)\n"
     ]
    },
    {
     "data": {
      "text/plain": [
       "MODFLOW 3 layer(s) 137 row(s) 171 column(s) 12 stress period(s)"
      ]
     },
     "execution_count": 2,
     "metadata": {},
     "output_type": "execute_result"
    }
   ],
   "source": [
    "m = fm.Modflow.load('lpr_inset.nam',\n",
    "                    model_ws='data/lpr')\n",
    "m"
   ]
  },
  {
   "cell_type": "markdown",
   "metadata": {},
   "source": [
    "#### define the location of the model grid\n",
    "* spacing in meters"
   ]
  },
  {
   "cell_type": "code",
   "execution_count": 3,
   "metadata": {
    "execution": {
     "iopub.execute_input": "2023-08-14T20:46:23.369861Z",
     "iopub.status.busy": "2023-08-14T20:46:23.369260Z",
     "iopub.status.idle": "2023-08-14T20:46:23.383028Z",
     "shell.execute_reply": "2023-08-14T20:46:23.382590Z"
    }
   },
   "outputs": [
    {
     "name": "stderr",
     "output_type": "stream",
     "text": [
      "/home/runner/micromamba/envs/mfexport_ci/lib/python3.11/site-packages/flopy/utils/crs.py:114: PendingDeprecationWarning: the prj argument will be deprecated and will be removed in version 3.6. Use prjfile instead.\n",
      "  warnings.warn(\n",
      "/home/runner/micromamba/envs/mfexport_ci/lib/python3.11/site-packages/flopy/utils/crs.py:121: PendingDeprecationWarning: the epsg argument will be deprecated and will be removed in version 3.6. Use crs instead.\n",
      "  warnings.warn(\n",
      "/home/runner/micromamba/envs/mfexport_ci/lib/python3.11/site-packages/flopy/utils/crs.py:140: PendingDeprecationWarning: the proj4 argument will be deprecated and will be removed in version 3.6. Use crs instead.\n",
      "  warnings.warn(\n",
      "/home/runner/micromamba/envs/mfexport_ci/lib/python3.11/site-packages/flopy/utils/crs.py:121: PendingDeprecationWarning: the epsg argument will be deprecated and will be removed in version 3.6. Use crs instead.\n",
      "  warnings.warn(\n",
      "/home/runner/micromamba/envs/mfexport_ci/lib/python3.11/site-packages/flopy/utils/crs.py:140: PendingDeprecationWarning: the proj4 argument will be deprecated and will be removed in version 3.6. Use crs instead.\n",
      "  warnings.warn(\n"
     ]
    }
   ],
   "source": [
    "grid = mfexport.MFexportGrid(delr=m.dis.delr.array * .3048, # grid spacing in meters\n",
    "                             delc=m.dis.delc.array * .3048, \n",
    "                             xul=557571, yul=446166, # upper left corner in CRS\n",
    "                             epsg=3070 # epsg reference for projected CRS\n",
    "                            )"
   ]
  },
  {
   "cell_type": "markdown",
   "metadata": {},
   "source": [
    "### export all data arrays and stress period data (`MfLists`) to shapefiles, rasters and PDFs\n",
    "* array data are written to compressed GeoTIFFs\n",
    "* transient lists are written to shapefiles\n",
    "    * only model cells in the list are included\n",
    "    * stress period data are included as attributes; only periods where stresses change are included\n",
    "* all data are displayed in PDFs using `matplotlib.pyplot.imshow`"
   ]
  },
  {
   "cell_type": "code",
   "execution_count": 4,
   "metadata": {
    "execution": {
     "iopub.execute_input": "2023-08-14T20:46:23.385387Z",
     "iopub.status.busy": "2023-08-14T20:46:23.385004Z",
     "iopub.status.idle": "2023-08-14T20:46:44.797409Z",
     "shell.execute_reply": "2023-08-14T20:46:44.796875Z"
    }
   },
   "outputs": [],
   "source": [
    "%%capture\n",
    "mfexport.export(m, grid, output_path='postproc')"
   ]
  },
  {
   "cell_type": "markdown",
   "metadata": {},
   "source": [
    "### export a package"
   ]
  },
  {
   "cell_type": "code",
   "execution_count": 5,
   "metadata": {
    "execution": {
     "iopub.execute_input": "2023-08-14T20:46:44.800860Z",
     "iopub.status.busy": "2023-08-14T20:46:44.800250Z",
     "iopub.status.idle": "2023-08-14T20:46:49.569691Z",
     "shell.execute_reply": "2023-08-14T20:46:49.569103Z"
    }
   },
   "outputs": [],
   "source": [
    "%%capture\n",
    "mfexport.export(m, grid, 'wel', output_path='postproc')"
   ]
  },
  {
   "cell_type": "markdown",
   "metadata": {},
   "source": [
    "### summarize model input"
   ]
  },
  {
   "cell_type": "code",
   "execution_count": 6,
   "metadata": {
    "execution": {
     "iopub.execute_input": "2023-08-14T20:46:49.573261Z",
     "iopub.status.busy": "2023-08-14T20:46:49.572635Z",
     "iopub.status.idle": "2023-08-14T20:46:50.031759Z",
     "shell.execute_reply": "2023-08-14T20:46:50.031153Z"
    }
   },
   "outputs": [
    {
     "name": "stdout",
     "output_type": "stream",
     "text": [
      "summarizing lpr_inset input...\n"
     ]
    },
    {
     "data": {
      "text/html": [
       "<div>\n",
       "<style scoped>\n",
       "    .dataframe tbody tr th:only-of-type {\n",
       "        vertical-align: middle;\n",
       "    }\n",
       "\n",
       "    .dataframe tbody tr th {\n",
       "        vertical-align: top;\n",
       "    }\n",
       "\n",
       "    .dataframe thead th {\n",
       "        text-align: right;\n",
       "    }\n",
       "</style>\n",
       "<table border=\"1\" class=\"dataframe\">\n",
       "  <thead>\n",
       "    <tr style=\"text-align: right;\">\n",
       "      <th></th>\n",
       "      <th>package</th>\n",
       "      <th>variable</th>\n",
       "      <th>layer</th>\n",
       "      <th>min</th>\n",
       "      <th>mean</th>\n",
       "      <th>max</th>\n",
       "      <th>period</th>\n",
       "    </tr>\n",
       "  </thead>\n",
       "  <tbody>\n",
       "    <tr>\n",
       "      <th>0</th>\n",
       "      <td>DIS</td>\n",
       "      <td>botm</td>\n",
       "      <td>0.0</td>\n",
       "      <td>1033.500000</td>\n",
       "      <td>1049.306527</td>\n",
       "      <td>1066.699951</td>\n",
       "      <td>NaN</td>\n",
       "    </tr>\n",
       "    <tr>\n",
       "      <th>1</th>\n",
       "      <td>DIS</td>\n",
       "      <td>botm</td>\n",
       "      <td>1.0</td>\n",
       "      <td>991.239990</td>\n",
       "      <td>1004.092457</td>\n",
       "      <td>1063.699951</td>\n",
       "      <td>NaN</td>\n",
       "    </tr>\n",
       "    <tr>\n",
       "      <th>2</th>\n",
       "      <td>DIS</td>\n",
       "      <td>botm</td>\n",
       "      <td>2.0</td>\n",
       "      <td>988.239990</td>\n",
       "      <td>1000.740342</td>\n",
       "      <td>1042.599976</td>\n",
       "      <td>NaN</td>\n",
       "    </tr>\n",
       "    <tr>\n",
       "      <th>3</th>\n",
       "      <td>DIS</td>\n",
       "      <td>model_top</td>\n",
       "      <td>NaN</td>\n",
       "      <td>1071.079956</td>\n",
       "      <td>1105.837196</td>\n",
       "      <td>1190.459961</td>\n",
       "      <td>NaN</td>\n",
       "    </tr>\n",
       "    <tr>\n",
       "      <th>4</th>\n",
       "      <td>BAS6</td>\n",
       "      <td>ibound</td>\n",
       "      <td>0.0</td>\n",
       "      <td>1.000000</td>\n",
       "      <td>1.000000</td>\n",
       "      <td>1.000000</td>\n",
       "      <td>NaN</td>\n",
       "    </tr>\n",
       "    <tr>\n",
       "      <th>5</th>\n",
       "      <td>BAS6</td>\n",
       "      <td>ibound</td>\n",
       "      <td>1.0</td>\n",
       "      <td>1.000000</td>\n",
       "      <td>1.000000</td>\n",
       "      <td>1.000000</td>\n",
       "      <td>NaN</td>\n",
       "    </tr>\n",
       "    <tr>\n",
       "      <th>6</th>\n",
       "      <td>BAS6</td>\n",
       "      <td>ibound</td>\n",
       "      <td>2.0</td>\n",
       "      <td>1.000000</td>\n",
       "      <td>1.000000</td>\n",
       "      <td>1.000000</td>\n",
       "      <td>NaN</td>\n",
       "    </tr>\n",
       "    <tr>\n",
       "      <th>7</th>\n",
       "      <td>BAS6</td>\n",
       "      <td>strt</td>\n",
       "      <td>0.0</td>\n",
       "      <td>1069.800049</td>\n",
       "      <td>1087.256670</td>\n",
       "      <td>1107.099976</td>\n",
       "      <td>NaN</td>\n",
       "    </tr>\n",
       "    <tr>\n",
       "      <th>8</th>\n",
       "      <td>BAS6</td>\n",
       "      <td>strt</td>\n",
       "      <td>1.0</td>\n",
       "      <td>1069.900024</td>\n",
       "      <td>1087.247706</td>\n",
       "      <td>1107.099976</td>\n",
       "      <td>NaN</td>\n",
       "    </tr>\n",
       "    <tr>\n",
       "      <th>9</th>\n",
       "      <td>BAS6</td>\n",
       "      <td>strt</td>\n",
       "      <td>2.0</td>\n",
       "      <td>1070.000000</td>\n",
       "      <td>1087.247450</td>\n",
       "      <td>1107.099976</td>\n",
       "      <td>NaN</td>\n",
       "    </tr>\n",
       "    <tr>\n",
       "      <th>10</th>\n",
       "      <td>UPW</td>\n",
       "      <td>hani</td>\n",
       "      <td>0.0</td>\n",
       "      <td>0.000000</td>\n",
       "      <td>0.000000</td>\n",
       "      <td>0.000000</td>\n",
       "      <td>NaN</td>\n",
       "    </tr>\n",
       "    <tr>\n",
       "      <th>11</th>\n",
       "      <td>UPW</td>\n",
       "      <td>hani</td>\n",
       "      <td>1.0</td>\n",
       "      <td>0.000000</td>\n",
       "      <td>0.000000</td>\n",
       "      <td>0.000000</td>\n",
       "      <td>NaN</td>\n",
       "    </tr>\n",
       "    <tr>\n",
       "      <th>12</th>\n",
       "      <td>UPW</td>\n",
       "      <td>hani</td>\n",
       "      <td>2.0</td>\n",
       "      <td>0.000000</td>\n",
       "      <td>0.000000</td>\n",
       "      <td>0.000000</td>\n",
       "      <td>NaN</td>\n",
       "    </tr>\n",
       "    <tr>\n",
       "      <th>13</th>\n",
       "      <td>UPW</td>\n",
       "      <td>hk</td>\n",
       "      <td>0.0</td>\n",
       "      <td>1.005800</td>\n",
       "      <td>241.219448</td>\n",
       "      <td>10000.000000</td>\n",
       "      <td>NaN</td>\n",
       "    </tr>\n",
       "    <tr>\n",
       "      <th>14</th>\n",
       "      <td>UPW</td>\n",
       "      <td>hk</td>\n",
       "      <td>1.0</td>\n",
       "      <td>19.238001</td>\n",
       "      <td>249.383617</td>\n",
       "      <td>354.209991</td>\n",
       "      <td>NaN</td>\n",
       "    </tr>\n",
       "    <tr>\n",
       "      <th>15</th>\n",
       "      <td>UPW</td>\n",
       "      <td>hk</td>\n",
       "      <td>2.0</td>\n",
       "      <td>19.238001</td>\n",
       "      <td>243.610578</td>\n",
       "      <td>354.209991</td>\n",
       "      <td>NaN</td>\n",
       "    </tr>\n",
       "    <tr>\n",
       "      <th>16</th>\n",
       "      <td>UPW</td>\n",
       "      <td>ss</td>\n",
       "      <td>0.0</td>\n",
       "      <td>0.001000</td>\n",
       "      <td>0.004113</td>\n",
       "      <td>1.000000</td>\n",
       "      <td>NaN</td>\n",
       "    </tr>\n",
       "    <tr>\n",
       "      <th>17</th>\n",
       "      <td>UPW</td>\n",
       "      <td>ss</td>\n",
       "      <td>1.0</td>\n",
       "      <td>0.001000</td>\n",
       "      <td>0.001000</td>\n",
       "      <td>0.001000</td>\n",
       "      <td>NaN</td>\n",
       "    </tr>\n",
       "    <tr>\n",
       "      <th>18</th>\n",
       "      <td>UPW</td>\n",
       "      <td>ss</td>\n",
       "      <td>2.0</td>\n",
       "      <td>0.001000</td>\n",
       "      <td>0.001000</td>\n",
       "      <td>0.001000</td>\n",
       "      <td>NaN</td>\n",
       "    </tr>\n",
       "    <tr>\n",
       "      <th>19</th>\n",
       "      <td>UPW</td>\n",
       "      <td>sy</td>\n",
       "      <td>0.0</td>\n",
       "      <td>0.120000</td>\n",
       "      <td>0.122742</td>\n",
       "      <td>1.000000</td>\n",
       "      <td>NaN</td>\n",
       "    </tr>\n",
       "  </tbody>\n",
       "</table>\n",
       "</div>"
      ],
      "text/plain": [
       "   package   variable  layer          min         mean           max  period\n",
       "0      DIS       botm    0.0  1033.500000  1049.306527   1066.699951     NaN\n",
       "1      DIS       botm    1.0   991.239990  1004.092457   1063.699951     NaN\n",
       "2      DIS       botm    2.0   988.239990  1000.740342   1042.599976     NaN\n",
       "3      DIS  model_top    NaN  1071.079956  1105.837196   1190.459961     NaN\n",
       "4     BAS6     ibound    0.0     1.000000     1.000000      1.000000     NaN\n",
       "5     BAS6     ibound    1.0     1.000000     1.000000      1.000000     NaN\n",
       "6     BAS6     ibound    2.0     1.000000     1.000000      1.000000     NaN\n",
       "7     BAS6       strt    0.0  1069.800049  1087.256670   1107.099976     NaN\n",
       "8     BAS6       strt    1.0  1069.900024  1087.247706   1107.099976     NaN\n",
       "9     BAS6       strt    2.0  1070.000000  1087.247450   1107.099976     NaN\n",
       "10     UPW       hani    0.0     0.000000     0.000000      0.000000     NaN\n",
       "11     UPW       hani    1.0     0.000000     0.000000      0.000000     NaN\n",
       "12     UPW       hani    2.0     0.000000     0.000000      0.000000     NaN\n",
       "13     UPW         hk    0.0     1.005800   241.219448  10000.000000     NaN\n",
       "14     UPW         hk    1.0    19.238001   249.383617    354.209991     NaN\n",
       "15     UPW         hk    2.0    19.238001   243.610578    354.209991     NaN\n",
       "16     UPW         ss    0.0     0.001000     0.004113      1.000000     NaN\n",
       "17     UPW         ss    1.0     0.001000     0.001000      0.001000     NaN\n",
       "18     UPW         ss    2.0     0.001000     0.001000      0.001000     NaN\n",
       "19     UPW         sy    0.0     0.120000     0.122742      1.000000     NaN"
      ]
     },
     "execution_count": 6,
     "metadata": {},
     "output_type": "execute_result"
    }
   ],
   "source": [
    "df = mfexport.summarize(m)\n",
    "df.head(20)"
   ]
  },
  {
   "cell_type": "markdown",
   "metadata": {},
   "source": [
    "### Export model results\n",
    "\n",
    "#### cell by cell flows\n",
    "* written to compressed GeoTIFFs"
   ]
  },
  {
   "cell_type": "code",
   "execution_count": 7,
   "metadata": {
    "execution": {
     "iopub.execute_input": "2023-08-14T20:46:50.034695Z",
     "iopub.status.busy": "2023-08-14T20:46:50.034399Z",
     "iopub.status.idle": "2023-08-14T20:46:50.095530Z",
     "shell.execute_reply": "2023-08-14T20:46:50.094917Z"
    }
   },
   "outputs": [
    {
     "name": "stdout",
     "output_type": "stream",
     "text": [
      "Exporting cell budget info...\n",
      "file: data/lpr/lpr_inset.cbc\n",
      "binary grid file: None\n",
      "stress period 0, timestep 4\n",
      "wrote postproc/rasters/STORAGE_per0_stp4.tif\n",
      "wrote postproc/rasters/CONSTANT HEAD_per0_stp4.tif\n",
      "wrote postproc/rasters/FLOW RIGHT FACE_per0_stp4.tif\n",
      "wrote postproc/rasters/FLOW FRONT FACE_per0_stp4.tif\n",
      "wrote postproc/rasters/FLOW LOWER FACE_per0_stp4.tif\n",
      "wrote postproc/rasters/WELLS_per0_stp4.tif\n",
      "wrote postproc/rasters/RECHARGE_per0_stp4.tif\n",
      "wrote postproc/rasters/STREAM LEAKAGE_per0_stp4.tif\n"
     ]
    },
    {
     "data": {
      "text/plain": [
       "['postproc/rasters/STORAGE_per0_stp4.tif',\n",
       " 'postproc/rasters/CONSTANT HEAD_per0_stp4.tif',\n",
       " 'postproc/rasters/FLOW RIGHT FACE_per0_stp4.tif',\n",
       " 'postproc/rasters/FLOW FRONT FACE_per0_stp4.tif',\n",
       " 'postproc/rasters/FLOW LOWER FACE_per0_stp4.tif',\n",
       " 'postproc/rasters/WELLS_per0_stp4.tif',\n",
       " 'postproc/rasters/RECHARGE_per0_stp4.tif',\n",
       " 'postproc/rasters/STREAM LEAKAGE_per0_stp4.tif']"
      ]
     },
     "execution_count": 7,
     "metadata": {},
     "output_type": "execute_result"
    }
   ],
   "source": [
    "mfexport.export_cell_budget('data/lpr/lpr_inset.cbc', \n",
    "                   grid,\n",
    "                   kstpkper=(4, 0), output_path='postproc')"
   ]
  },
  {
   "cell_type": "markdown",
   "metadata": {},
   "source": [
    "#### heads\n",
    "* compressed GeoTIFFs\n",
    "* shapefiles of equipotential contours"
   ]
  },
  {
   "cell_type": "code",
   "execution_count": 8,
   "metadata": {
    "execution": {
     "iopub.execute_input": "2023-08-14T20:46:50.098555Z",
     "iopub.status.busy": "2023-08-14T20:46:50.098190Z",
     "iopub.status.idle": "2023-08-14T20:46:50.143289Z",
     "shell.execute_reply": "2023-08-14T20:46:50.142694Z"
    }
   },
   "outputs": [
    {
     "name": "stdout",
     "output_type": "stream",
     "text": [
      "Exporting heads...\n",
      "file: data/lpr/lpr_inset.hds\n",
      "stress period 0, timestep 4\n",
      "wrote postproc/rasters/wt_per0_stp4.tif\n",
      "writing postproc/shps/wt_ctr_per0_stp4.shp... Done\n"
     ]
    },
    {
     "name": "stderr",
     "output_type": "stream",
     "text": [
      "/home/runner/micromamba/envs/mfexport_ci/lib/python3.11/site-packages/gisutils/shapefile.py:117: DeprecationWarning: distutils Version classes are deprecated. Use packaging.version instead.\n",
      "  if LooseVersion(fiona.__gdal_version__) < LooseVersion(\"3.0.0\"):\n",
      "/home/runner/micromamba/envs/mfexport_ci/lib/python3.11/site-packages/gisutils/shapefile.py:117: DeprecationWarning: distutils Version classes are deprecated. Use packaging.version instead.\n",
      "  if LooseVersion(fiona.__gdal_version__) < LooseVersion(\"3.0.0\"):\n",
      "/home/runner/micromamba/envs/mfexport_ci/lib/python3.11/site-packages/gisutils/shapefile.py:129: ShapelyDeprecationWarning: The 'type' attribute is deprecated, and will be removed in the future. You can use the 'geom_type' attribute instead.\n",
      "  Type = g.type\n"
     ]
    },
    {
     "data": {
      "text/plain": [
       "['postproc/rasters/wt_per0_stp4.tif', 'postproc/shps/wt_ctr_per0_stp4.shp']"
      ]
     },
     "execution_count": 8,
     "metadata": {},
     "output_type": "execute_result"
    }
   ],
   "source": [
    "headsfile = 'data/lpr/lpr_inset.hds'\n",
    "\n",
    "mfexport.export_heads(headsfile, grid, hdry=m.upw.hdry, hnflo=m.bas6.hnoflo,\n",
    "                      kstpkper=(4, 0),\n",
    "                      output_path='postproc')"
   ]
  },
  {
   "cell_type": "markdown",
   "metadata": {},
   "source": [
    "#### drawdown\n",
    "* compressed GeoTIFFs\n",
    "* shapefiles of equipotential contours"
   ]
  },
  {
   "cell_type": "code",
   "execution_count": 9,
   "metadata": {
    "execution": {
     "iopub.execute_input": "2023-08-14T20:46:50.147222Z",
     "iopub.status.busy": "2023-08-14T20:46:50.146839Z",
     "iopub.status.idle": "2023-08-14T20:46:50.192325Z",
     "shell.execute_reply": "2023-08-14T20:46:50.191736Z"
    }
   },
   "outputs": [
    {
     "name": "stdout",
     "output_type": "stream",
     "text": [
      "Exporting drawdown...\n",
      "file: data/lpr/lpr_inset.hds\n",
      "from stress period 0, timestep 4\n",
      "to stress period 8, timestep 4\n",
      "\n",
      "\n",
      "wrote postproc/rasters/wt-ddn_per8_stp4.tif\n",
      "writing postproc/shps/wt-ddn_ctr_per8_stp4.shp... Done\n"
     ]
    },
    {
     "name": "stderr",
     "output_type": "stream",
     "text": [
      "/home/runner/micromamba/envs/mfexport_ci/lib/python3.11/site-packages/gisutils/shapefile.py:117: DeprecationWarning: distutils Version classes are deprecated. Use packaging.version instead.\n",
      "  if LooseVersion(fiona.__gdal_version__) < LooseVersion(\"3.0.0\"):\n",
      "/home/runner/micromamba/envs/mfexport_ci/lib/python3.11/site-packages/gisutils/shapefile.py:117: DeprecationWarning: distutils Version classes are deprecated. Use packaging.version instead.\n",
      "  if LooseVersion(fiona.__gdal_version__) < LooseVersion(\"3.0.0\"):\n",
      "/home/runner/micromamba/envs/mfexport_ci/lib/python3.11/site-packages/gisutils/shapefile.py:129: ShapelyDeprecationWarning: The 'type' attribute is deprecated, and will be removed in the future. You can use the 'geom_type' attribute instead.\n",
      "  Type = g.type\n"
     ]
    },
    {
     "data": {
      "text/plain": [
       "['postproc/rasters/wt-ddn_per8_stp4.tif',\n",
       " 'postproc/shps/wt-ddn_ctr_per8_stp4.shp']"
      ]
     },
     "execution_count": 9,
     "metadata": {},
     "output_type": "execute_result"
    }
   ],
   "source": [
    "mfexport.export_drawdown(headsfile, grid, hdry=m.upw.hdry, hnflo=m.bas6.hnoflo,\n",
    "                         kstpkper0=(4, 0),\n",
    "                         kstpkper1=(4, 8),\n",
    "                         output_path='postproc')"
   ]
  },
  {
   "cell_type": "markdown",
   "metadata": {},
   "source": [
    "#### SFR results\n",
    "* shapefile of SFR water balance results\n",
    "* PDFs of simulated stream flows and stream/aquifer interactions"
   ]
  },
  {
   "cell_type": "code",
   "execution_count": 10,
   "metadata": {
    "execution": {
     "iopub.execute_input": "2023-08-14T20:46:50.194938Z",
     "iopub.status.busy": "2023-08-14T20:46:50.194488Z",
     "iopub.status.idle": "2023-08-14T20:46:50.653978Z",
     "shell.execute_reply": "2023-08-14T20:46:50.653449Z"
    }
   },
   "outputs": [],
   "source": [
    "%%capture\n",
    "mf2005_sfr_outputfile = 'data/lpr/lpr_inset.sfr.out'\n",
    "outfiles = mfexport.export_sfr_results(mf2005_sfr_outputfile=mf2005_sfr_outputfile,\n",
    "                                       model=m,\n",
    "                                       grid=grid,\n",
    "                                       kstpkper=(4, 0),\n",
    "                                       output_length_units='feet',\n",
    "                                       output_time_units='seconds',\n",
    "                                       output_path='postproc'\n",
    "                                       )"
   ]
  },
  {
   "cell_type": "code",
   "execution_count": null,
   "metadata": {},
   "outputs": [],
   "source": []
  }
 ],
 "metadata": {
  "kernelspec": {
   "display_name": "Python 3 (ipykernel)",
   "language": "python",
   "name": "python3"
  },
  "language_info": {
   "codemirror_mode": {
    "name": "ipython",
    "version": 3
   },
   "file_extension": ".py",
   "mimetype": "text/x-python",
   "name": "python",
   "nbconvert_exporter": "python",
   "pygments_lexer": "ipython3",
   "version": "3.11.4"
  }
 },
 "nbformat": 4,
 "nbformat_minor": 2
}
